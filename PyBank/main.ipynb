{
 "cells": [
  {
   "cell_type": "code",
   "execution_count": null,
   "metadata": {},
   "outputs": [],
   "source": [
    "import os\n",
    "import csv"
   ]
  },
  {
   "cell_type": "code",
   "execution_count": null,
   "metadata": {},
   "outputs": [],
   "source": [
    "files = os.listdir()"
   ]
  },
  {
   "cell_type": "code",
   "execution_count": null,
   "metadata": {},
   "outputs": [],
   "source": [
    "now = os.getcwd()"
   ]
  },
  {
   "cell_type": "code",
   "execution_count": null,
   "metadata": {},
   "outputs": [],
   "source": [
    "for file in files:\n",
    "    print(os.path.join(now,file))"
   ]
  },
  {
   "cell_type": "code",
   "execution_count": null,
   "metadata": {},
   "outputs": [],
   "source": [
    "csvpath = os.path.abspath(\"budget_data.csv\")\n",
    "print(csvpath)"
   ]
  },
  {
   "cell_type": "code",
   "execution_count": null,
   "metadata": {},
   "outputs": [],
   "source": [
    "#create a list to store the data\n",
    "data = []\n",
    "\n",
    "with open(csvpath, 'r') as file:\n",
    "    reader = csv.reader(file)\n",
    "    \n",
    "    data = list(reader)\n",
    "    \n",
    "print(data)"
   ]
  },
  {
   "cell_type": "code",
   "execution_count": null,
   "metadata": {},
   "outputs": [],
   "source": [
    "#Read File\n",
    "with open(csvpath, 'r') as file:\n",
    "    reader = csv.reader(file)\n",
    "#Print first 5 rows\n",
    "    for row_index, row in enumerate(reader):\n",
    "        if row_index < 5:\n",
    "            print(row)\n",
    "        else:\n",
    "            break    "
   ]
  },
  {
   "cell_type": "code",
   "execution_count": null,
   "metadata": {},
   "outputs": [],
   "source": [
    "num_months = 0\n",
    "for row in data[1:]:\n",
    "        num_months += 1"
   ]
  },
  {
   "cell_type": "code",
   "execution_count": null,
   "metadata": {},
   "outputs": [],
   "source": [
    "#Variable to store net total\n",
    "net_total = 0\n",
    "#loop through data starting at second row\n",
    "for row in data[1:]:\n",
    "    profit_loss =  int(row[1])\n",
    "    net_total += profit_loss\n",
    "#Format the Net Total\n",
    "formatted_net_total = '${:,.2f}'.format(net_total)"
   ]
  },
  {
   "cell_type": "code",
   "execution_count": null,
   "metadata": {},
   "outputs": [],
   "source": [
    "#Initialize variables\n",
    "prev_profit_loss = int(data[1][1]) #starting at second row of P/L\n",
    "total_change = 0\n",
    "num_changes = 0\n",
    "\n",
    "#loop through data starting in second row\n",
    "for row in data[2:]:\n",
    "    current_profit_loss = int(row[1])\n",
    "    change = current_profit_loss - prev_profit_loss\n",
    "    total_change += change\n",
    "    num_changes += 1\n",
    "    prev_profit_loss = current_profit_loss\n",
    "\n",
    "#calculate the average change\n",
    "average_change = total_change/num_changes\n",
    "\n",
    "#Format the average change with '$'\n",
    "formatted_average_change = '${:,.2f}'.format(average_change)"
   ]
  },
  {
   "cell_type": "code",
   "execution_count": null,
   "metadata": {},
   "outputs": [],
   "source": [
    "#initialize variables\n",
    "greatest_increase = 0\n",
    "greatest_increase_date = ''\n",
    "\n",
    "#Loop through data starting at second row\n",
    "for row in data[1:]:\n",
    "    date = row[0]\n",
    "    profit_loss = int(row[1])\n",
    "    \n",
    "    if profit_loss > greatest_increase:\n",
    "        greatest_increase = profit_loss #set variable equal to highest read P/L\n",
    "        greatest_increase_date = date       "
   ]
  },
  {
   "cell_type": "code",
   "execution_count": null,
   "metadata": {},
   "outputs": [],
   "source": [
    "#initialize variables\n",
    "greatest_decrease = 0\n",
    "greatest_decrease_date = ''\n",
    "\n",
    "#Loop through data starting at second row\n",
    "for row in data[1:]:\n",
    "    date = row[0]\n",
    "    profit_loss = int(row[1])\n",
    "    \n",
    "    if profit_loss < greatest_decrease:\n",
    "        greatest_decrease = profit_loss\n",
    "        greatest_decrease_date = date"
   ]
  },
  {
   "cell_type": "code",
   "execution_count": null,
   "metadata": {},
   "outputs": [],
   "source": [
    "#Print the analysis to terminal\n",
    "print(\"Financial Analysis\")\n",
    "print(\"----------------------------------\")\n",
    "print(\"Total Months: \", num_months)\n",
    "print(\"Total: \", formatted_net_total)\n",
    "print(\"Average Change: \", formatted_average_change)  \n",
    "print(\"Greatest Increase in Profits: \", greatest_increase_date,\"($\", greatest_increase, \")\")\n",
    "print(\"Greatest Decrease in Profits: \", greatest_decrease_date,\"($\", greatest_decrease, \")\")"
   ]
  },
  {
   "cell_type": "code",
   "execution_count": 178,
   "metadata": {},
   "outputs": [
    {
     "name": "stdout",
     "output_type": "stream",
     "text": [
      "Results exported to financial_analysis.txt\n"
     ]
    }
   ],
   "source": [
    "#Export the results to a test file\n",
    "output_file = \"financial_analysis.txt\"\n",
    "with open(output_file, \"w\") as file:\n",
    "    file.write(\"Financial Analysis\\n\")\n",
    "    file.write(\"----------------------------------\\n\")\n",
    "    file.write(\"Total Months:\\n\")\n",
    "    file.write(str(num_months) + \"\\n\")\n",
    "    file.write(\"Total: \\n\")\n",
    "    file.write(str(formatted_net_total) + \"\\n\")\n",
    "    file.write(\"Average Change: \\n\")\n",
    "    file.write(str(formatted_average_change)+\"\\n\")\n",
    "    file.write(\"Greatest Increase in Profits:\\n\")\n",
    "    file.write(greatest_increase_date + \"($\"+ str(greatest_increase)+ \")\\n\")\n",
    "    file.write(\"Greatest Decrease in Profits:\\n\")\n",
    "    file.write(greatest_decrease_date + \"($\"+ str(greatest_decrease)+ \")\\n\")\n",
    "\n",
    "print(\"Results exported to\", output_file)"
   ]
  },
  {
   "cell_type": "code",
   "execution_count": null,
   "metadata": {},
   "outputs": [],
   "source": []
  }
 ],
 "metadata": {
  "kernelspec": {
   "display_name": "Python 3",
   "language": "python",
   "name": "python3"
  },
  "language_info": {
   "codemirror_mode": {
    "name": "ipython",
    "version": 3
   },
   "file_extension": ".py",
   "mimetype": "text/x-python",
   "name": "python",
   "nbconvert_exporter": "python",
   "pygments_lexer": "ipython3",
   "version": "3.6.5"
  }
 },
 "nbformat": 4,
 "nbformat_minor": 2
}
