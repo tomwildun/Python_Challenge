{
 "cells": [
  {
   "cell_type": "code",
   "execution_count": 1,
   "metadata": {},
   "outputs": [],
   "source": [
    "import os\n",
    "import csv"
   ]
  },
  {
   "cell_type": "code",
   "execution_count": 2,
   "metadata": {},
   "outputs": [],
   "source": [
    "files = os.listdir()\n",
    "now = os.getcwd()"
   ]
  },
  {
   "cell_type": "code",
   "execution_count": 3,
   "metadata": {},
   "outputs": [
    {
     "name": "stdout",
     "output_type": "stream",
     "text": [
      "/Users/tomwildun/Documents/UTA-VIRT-DATA-PT-06-2023-U-LOLC/02-Homework/03-Python/Starter_Code/PyPoll/Resources/Untitled.ipynb\n",
      "/Users/tomwildun/Documents/UTA-VIRT-DATA-PT-06-2023-U-LOLC/02-Homework/03-Python/Starter_Code/PyPoll/Resources/.ipynb_checkpoints\n",
      "/Users/tomwildun/Documents/UTA-VIRT-DATA-PT-06-2023-U-LOLC/02-Homework/03-Python/Starter_Code/PyPoll/Resources/election_data.csv\n"
     ]
    }
   ],
   "source": [
    "for file in files:\n",
    "    print(os.path.join(now,file))"
   ]
  },
  {
   "cell_type": "code",
   "execution_count": 5,
   "metadata": {},
   "outputs": [
    {
     "name": "stdout",
     "output_type": "stream",
     "text": [
      "/Users/tomwildun/Documents/UTA-VIRT-DATA-PT-06-2023-U-LOLC/02-Homework/03-Python/Starter_Code/PyPoll/Resources/election_data.csv\n"
     ]
    }
   ],
   "source": [
    "csvpath = os.path.abspath(\"election_data.csv\")\n",
    "print(csvpath)"
   ]
  },
  {
   "cell_type": "code",
   "execution_count": 6,
   "metadata": {},
   "outputs": [],
   "source": [
    "data = []\n",
    "with open(csvpath, 'r') as file:\n",
    "    reader = csv.reader(file)\n",
    "    data = list(reader)"
   ]
  },
  {
   "cell_type": "code",
   "execution_count": null,
   "metadata": {},
   "outputs": [],
   "source": [
    "#Print first 5 rows\n",
    "for row_index, row in enumerate(data):\n",
    "    if row_index < 5:\n",
    "        print(row)\n",
    "    else:\n",
    "        break"
   ]
  },
  {
   "cell_type": "code",
   "execution_count": 11,
   "metadata": {},
   "outputs": [],
   "source": [
    "#Initialize variables\n",
    "total_votes = 0\n",
    "candidates = {}\n",
    "winner = \"\"\n",
    "winner_votes = 0"
   ]
  },
  {
   "cell_type": "code",
   "execution_count": 13,
   "metadata": {},
   "outputs": [
    {
     "name": "stdout",
     "output_type": "stream",
     "text": [
      "Election Results\n",
      "------------------------------\n",
      "Total Votes:  739422\n",
      "------------------------------\n",
      "Charles Casper Stockham: 23.049% (170426)\n",
      "Diana DeGette: 73.812% (545784)\n",
      "Raymon Anthony Doane: 3.139% (23212)\n",
      "------------------------------\n",
      "Winner:  Diana DeGette\n",
      "------------------------------\n"
     ]
    }
   ],
   "source": [
    "#Iterate through the data starting from the second row\n",
    "for row in data[1:]:\n",
    "    candidate = row[2]\n",
    "    total_votes += 1\n",
    "    \n",
    "    #Count the votes for each candidate\n",
    "    if candidate in candidates:\n",
    "        candidates[candidate] += 1 \n",
    "    else:\n",
    "        candidates[candidate] = 1\n",
    "\n",
    "#Determine the winner\n",
    "for candidate, votes in candidates.items():\n",
    "    if votes > winner_votes:\n",
    "        winner = candidate\n",
    "        winner_votes = votes\n",
    "        \n",
    "#Print analysis to terminal\n",
    "print(\"Election Results\")\n",
    "print(\"------------------------------\")\n",
    "print(\"Total Votes: \", total_votes)\n",
    "print(\"------------------------------\")\n",
    "for candidate, votes in candidates.items():\n",
    "    percentage = (votes/total_votes)*100\n",
    "    print(f\"{candidate}: {percentage:.3f}% ({votes})\")\n",
    "print(\"------------------------------\")\n",
    "print(\"Winner: \", winner)\n",
    "print(\"------------------------------\")"
   ]
  },
  {
   "cell_type": "code",
   "execution_count": 14,
   "metadata": {},
   "outputs": [
    {
     "name": "stdout",
     "output_type": "stream",
     "text": [
      "Results exported to election_results.txt\n"
     ]
    }
   ],
   "source": [
    "#Export results to txt file\n",
    "output_file = \"election_results.txt\"\n",
    "with open(output_file, \"w\") as file:\n",
    "    file.write(\"Election Results\\n\")\n",
    "    file.write(\"------------------------------\\n\")\n",
    "    file.write(\"Total Votes: \"+ str(total_votes) + \"\\n\")\n",
    "    file.write(\"------------------------------\\n\")\n",
    "    for candidate, votes in candidates.items():\n",
    "        percentage = (votes/total_votes)*100\n",
    "        file.write(f\"{candidate}: {percentage:.3f}% ({votes})\\n\")\n",
    "    file.write(\"------------------------------\\n\")\n",
    "    file.write(\"Winner: \"+ winner + \"\\n\")\n",
    "    file.write(\"------------------------------\\n\")\n",
    "print(\"Results exported to\", output_file)"
   ]
  },
  {
   "cell_type": "code",
   "execution_count": null,
   "metadata": {},
   "outputs": [],
   "source": []
  }
 ],
 "metadata": {
  "kernelspec": {
   "display_name": "Python 3",
   "language": "python",
   "name": "python3"
  },
  "language_info": {
   "codemirror_mode": {
    "name": "ipython",
    "version": 3
   },
   "file_extension": ".py",
   "mimetype": "text/x-python",
   "name": "python",
   "nbconvert_exporter": "python",
   "pygments_lexer": "ipython3",
   "version": "3.6.5"
  }
 },
 "nbformat": 4,
 "nbformat_minor": 2
}
